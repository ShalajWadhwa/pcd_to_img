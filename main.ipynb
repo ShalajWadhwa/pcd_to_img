{
 "cells": [
  {
   "cell_type": "code",
   "execution_count": 116,
   "id": "b7f6c41f",
   "metadata": {},
   "outputs": [],
   "source": [
    "import numpy as np\n",
    "import pandas as pd\n",
    "from matplotlib import pyplot as plt"
   ]
  },
  {
   "cell_type": "code",
   "execution_count": 117,
   "id": "0f33c7c6",
   "metadata": {},
   "outputs": [],
   "source": [
    "allCones = pd.read_csv('allCones.csv', index_col=0)"
   ]
  },
  {
   "cell_type": "code",
   "execution_count": 118,
   "id": "8a727f2d",
   "metadata": {},
   "outputs": [],
   "source": [
    "allCones['data'] = allCones.apply(lambda row : np.array(eval(row['data'])), axis = 1)"
   ]
  },
  {
   "cell_type": "code",
   "execution_count": 120,
   "id": "6bd91c25",
   "metadata": {},
   "outputs": [
    {
     "data": {
      "text/html": [
       "<div>\n",
       "<style scoped>\n",
       "    .dataframe tbody tr th:only-of-type {\n",
       "        vertical-align: middle;\n",
       "    }\n",
       "\n",
       "    .dataframe tbody tr th {\n",
       "        vertical-align: top;\n",
       "    }\n",
       "\n",
       "    .dataframe thead th {\n",
       "        text-align: right;\n",
       "    }\n",
       "</style>\n",
       "<table border=\"1\" class=\"dataframe\">\n",
       "  <thead>\n",
       "    <tr style=\"text-align: right;\">\n",
       "      <th></th>\n",
       "      <th>colour</th>\n",
       "      <th>data</th>\n",
       "    </tr>\n",
       "  </thead>\n",
       "  <tbody>\n",
       "    <tr>\n",
       "      <th>0</th>\n",
       "      <td>Blue</td>\n",
       "      <td>[[3.5412579, 1.1636225, -0.59038377, 6.0, 3.0]...</td>\n",
       "    </tr>\n",
       "    <tr>\n",
       "      <th>1</th>\n",
       "      <td>Blue</td>\n",
       "      <td>[[6.7550807, -4.2736859, -0.69933766, 3.0, 5.0...</td>\n",
       "    </tr>\n",
       "    <tr>\n",
       "      <th>2</th>\n",
       "      <td>Blue</td>\n",
       "      <td>[[4.1182308, 0.39291489, -0.5079515, 27.0, 4.0...</td>\n",
       "    </tr>\n",
       "    <tr>\n",
       "      <th>3</th>\n",
       "      <td>Blue</td>\n",
       "      <td>[[6.4241595, -2.0304615, -0.82724917, 1.0, 4.0...</td>\n",
       "    </tr>\n",
       "    <tr>\n",
       "      <th>4</th>\n",
       "      <td>Blue</td>\n",
       "      <td>[[2.6979296, 2.3427958, -0.43872967, 30.0, 4.0...</td>\n",
       "    </tr>\n",
       "  </tbody>\n",
       "</table>\n",
       "</div>"
      ],
      "text/plain": [
       "  colour                                               data\n",
       "0   Blue  [[3.5412579, 1.1636225, -0.59038377, 6.0, 3.0]...\n",
       "1   Blue  [[6.7550807, -4.2736859, -0.69933766, 3.0, 5.0...\n",
       "2   Blue  [[4.1182308, 0.39291489, -0.5079515, 27.0, 4.0...\n",
       "3   Blue  [[6.4241595, -2.0304615, -0.82724917, 1.0, 4.0...\n",
       "4   Blue  [[2.6979296, 2.3427958, -0.43872967, 30.0, 4.0..."
      ]
     },
     "execution_count": 120,
     "metadata": {},
     "output_type": "execute_result"
    }
   ],
   "source": [
    "allCones.head()"
   ]
  },
  {
   "cell_type": "code",
   "execution_count": 121,
   "id": "fd2ec669",
   "metadata": {},
   "outputs": [
    {
     "data": {
      "text/plain": [
       "0    [[3.5412579, 1.1636225, -0.59038377, 6.0, 3.0]...\n",
       "1    [[6.7550807, -4.2736859, -0.69933766, 3.0, 5.0...\n",
       "2    [[4.1182308, 0.39291489, -0.5079515, 27.0, 4.0...\n",
       "3    [[6.4241595, -2.0304615, -0.82724917, 1.0, 4.0...\n",
       "4    [[2.6979296, 2.3427958, -0.43872967, 30.0, 4.0...\n",
       "Name: data, dtype: object"
      ]
     },
     "execution_count": 121,
     "metadata": {},
     "output_type": "execute_result"
    }
   ],
   "source": [
    "allCones['data'].head()"
   ]
  },
  {
   "cell_type": "code",
   "execution_count": 122,
   "id": "9a5be2cb",
   "metadata": {},
   "outputs": [
    {
     "name": "stdout",
     "output_type": "stream",
     "text": [
      "Matrix size (LiDAR output):  (8, 5)\n"
     ]
    },
    {
     "data": {
      "text/plain": [
       "array([[ 6.7550807 , -4.2736859 , -0.69933766,  3.        ,  5.        ],\n",
       "       [ 6.7418017 , -4.2983103 , -0.69951195,  4.        ,  5.        ],\n",
       "       [ 6.7516489 , -4.1715317 , -0.97446734,  2.        ,  4.        ],\n",
       "       [ 6.7192402 , -4.1823587 , -0.97178626,  6.        ,  4.        ],\n",
       "       [ 6.6961923 , -4.2005129 , -0.97056752,  9.        ,  4.        ],\n",
       "       [ 6.6563206 , -4.2079506 , -0.96691149, 11.        ,  4.        ],\n",
       "       [ 6.6415906 , -4.2311602 , -0.96691149, 11.        ,  4.        ],\n",
       "       [ 6.6667633 , -4.3460078 , -0.97714853,  3.        ,  4.        ]])"
      ]
     },
     "execution_count": 122,
     "metadata": {},
     "output_type": "execute_result"
    }
   ],
   "source": [
    "print(\"Matrix size (LiDAR output): \", allCones['data'][1].shape)\n",
    "allCones['data'][1]"
   ]
  },
  {
   "cell_type": "code",
   "execution_count": 123,
   "id": "228ddd59",
   "metadata": {},
   "outputs": [],
   "source": [
    "# print(\"Image size (CNN Input): \", allCones['image'][0].shape)\n",
    "# allCones['image'][0]"
   ]
  },
  {
   "cell_type": "code",
   "execution_count": 124,
   "id": "55369798",
   "metadata": {},
   "outputs": [
    {
     "data": {
      "image/png": "[encoded data removed]",
      "text/plain": [
       "<Figure size 432x288 with 1 Axes>"
      ]
     },
     "metadata": {
      "needs_background": "light"
     },
     "output_type": "display_data"
    }
   ],
   "source": [
    "cone = allCones['data'][104]\n",
    "\n",
    "x_vals = []\n",
    "\n",
    "z_vals = []\n",
    "\n",
    "for row in range(0, len(cone)):\n",
    "    x_vals.append(cone[row][0])\n",
    "    z_vals.append(cone[row][2])\n",
    "\n",
    "plt.scatter(x_vals, z_vals)\n",
    "plt.show()"
   ]
  },
  {
   "cell_type": "code",
   "execution_count": 125,
   "id": "ec957644",
   "metadata": {},
   "outputs": [
    {
     "data": {
      "text/plain": [
       "(6.6415906, 6.7550807, -0.97714853, -0.69933766)"
      ]
     },
     "execution_count": 125,
     "metadata": {},
     "output_type": "execute_result"
    }
   ],
   "source": [
    "def find_range(array):\n",
    "    array = array.T\n",
    "    x_min, x_max, z_min, z_max = array[0].min(), array[0].max(), array[2].min(), array[2].max()\n",
    "    return (x_min, x_max, z_min, z_max)\n",
    "\n",
    "find_range(allCones['data'][1]) # example"
   ]
  },
  {
   "cell_type": "code",
   "execution_count": 126,
   "id": "bb97e15f",
   "metadata": {},
   "outputs": [
    {
     "data": {
      "text/plain": [
       "15"
      ]
     },
     "execution_count": 126,
     "metadata": {},
     "output_type": "execute_result"
    }
   ],
   "source": [
    "def map_range(num, org_min, org_max, new_min, new_max):\n",
    "    mapped_value = new_min + (((new_max - new_min) / (org_max - org_min)) * (num - org_min))\n",
    "    return round(mapped_value)\n",
    "\n",
    "map_range(6.6961923, 6.6415906, 6.7550807, 0, 32) # example"
   ]
  },
  {
   "cell_type": "code",
   "execution_count": 127,
   "id": "9f409447",
   "metadata": {},
   "outputs": [],
   "source": [
    "def convert_to_image(array):\n",
    "    img = np.zeros([32,32])\n",
    "    new_min = 0\n",
    "    new_max = 31\n",
    "    \n",
    "    x_min, x_max, z_min, z_max = find_range(array)\n",
    "    \n",
    "    for row in array:\n",
    "        new_x = map_range(row[0], x_min, x_max, new_min, new_max)\n",
    "        new_z = map_range(row[2], z_min, z_max, new_min, new_max)\n",
    "        \n",
    "        img[new_x, new_z] = row[3]\n",
    "\n",
    "    return img"
   ]
  },
  {
   "cell_type": "code",
   "execution_count": 141,
   "id": "fa60e531",
   "metadata": {},
   "outputs": [
    {
     "data": {
      "image/png": "[encoded data removed]",
      "text/plain": [
       "<Figure size 432x288 with 1 Axes>"
      ]
     },
     "metadata": {
      "needs_background": "light"
     },
     "output_type": "display_data"
    }
   ],
   "source": [
    "img = convert_to_image(allCones['data'][201]) # example\n",
    "\n",
    "plt.imshow(img.T, origin='lower')\n",
    "plt.imsave('test.png', img.T, origin='lower')"
   ]
  },
  {
   "cell_type": "code",
   "execution_count": 129,
   "id": "a0c82727",
   "metadata": {},
   "outputs": [],
   "source": [
    "allCones['image'] = allCones.apply(lambda row : convert_to_image(row[1]), axis = 1)"
   ]
  },
  {
   "cell_type": "code",
   "execution_count": 146,
   "id": "cd74ce64",
   "metadata": {},
   "outputs": [
    {
     "data": {
      "text/html": [
       "<div>\n",
       "<style scoped>\n",
       "    .dataframe tbody tr th:only-of-type {\n",
       "        vertical-align: middle;\n",
       "    }\n",
       "\n",
       "    .dataframe tbody tr th {\n",
       "        vertical-align: top;\n",
       "    }\n",
       "\n",
       "    .dataframe thead th {\n",
       "        text-align: right;\n",
       "    }\n",
       "</style>\n",
       "<table border=\"1\" class=\"dataframe\">\n",
       "  <thead>\n",
       "    <tr style=\"text-align: right;\">\n",
       "      <th></th>\n",
       "      <th>colour</th>\n",
       "      <th>data</th>\n",
       "      <th>image</th>\n",
       "    </tr>\n",
       "  </thead>\n",
       "  <tbody>\n",
       "    <tr>\n",
       "      <th>0</th>\n",
       "      <td>Blue</td>\n",
       "      <td>[[3.5412579, 1.1636225, -0.59038377, 6.0, 3.0]...</td>\n",
       "      <td>[[0.0, 0.0, 13.0, 0.0, 0.0, 0.0, 0.0, 0.0, 0.0...</td>\n",
       "    </tr>\n",
       "    <tr>\n",
       "      <th>1</th>\n",
       "      <td>Blue</td>\n",
       "      <td>[[6.7550807, -4.2736859, -0.69933766, 3.0, 5.0...</td>\n",
       "      <td>[[0.0, 11.0, 0.0, 0.0, 0.0, 0.0, 0.0, 0.0, 0.0...</td>\n",
       "    </tr>\n",
       "    <tr>\n",
       "      <th>2</th>\n",
       "      <td>Blue</td>\n",
       "      <td>[[4.1182308, 0.39291489, -0.5079515, 27.0, 4.0...</td>\n",
       "      <td>[[0.0, 19.0, 0.0, 0.0, 0.0, 0.0, 0.0, 0.0, 0.0...</td>\n",
       "    </tr>\n",
       "    <tr>\n",
       "      <th>3</th>\n",
       "      <td>Blue</td>\n",
       "      <td>[[6.4241595, -2.0304615, -0.82724917, 1.0, 4.0...</td>\n",
       "      <td>[[0.0, 28.0, 0.0, 0.0, 0.0, 0.0, 0.0, 0.0, 0.0...</td>\n",
       "    </tr>\n",
       "    <tr>\n",
       "      <th>4</th>\n",
       "      <td>Blue</td>\n",
       "      <td>[[2.6979296, 2.3427958, -0.43872967, 30.0, 4.0...</td>\n",
       "      <td>[[4.0, 0.0, 0.0, 0.0, 0.0, 0.0, 0.0, 0.0, 0.0,...</td>\n",
       "    </tr>\n",
       "  </tbody>\n",
       "</table>\n",
       "</div>"
      ],
      "text/plain": [
       "  colour                                               data  \\\n",
       "0   Blue  [[3.5412579, 1.1636225, -0.59038377, 6.0, 3.0]...   \n",
       "1   Blue  [[6.7550807, -4.2736859, -0.69933766, 3.0, 5.0...   \n",
       "2   Blue  [[4.1182308, 0.39291489, -0.5079515, 27.0, 4.0...   \n",
       "3   Blue  [[6.4241595, -2.0304615, -0.82724917, 1.0, 4.0...   \n",
       "4   Blue  [[2.6979296, 2.3427958, -0.43872967, 30.0, 4.0...   \n",
       "\n",
       "                                               image  \n",
       "0  [[0.0, 0.0, 13.0, 0.0, 0.0, 0.0, 0.0, 0.0, 0.0...  \n",
       "1  [[0.0, 11.0, 0.0, 0.0, 0.0, 0.0, 0.0, 0.0, 0.0...  \n",
       "2  [[0.0, 19.0, 0.0, 0.0, 0.0, 0.0, 0.0, 0.0, 0.0...  \n",
       "3  [[0.0, 28.0, 0.0, 0.0, 0.0, 0.0, 0.0, 0.0, 0.0...  \n",
       "4  [[4.0, 0.0, 0.0, 0.0, 0.0, 0.0, 0.0, 0.0, 0.0,...  "
      ]
     },
     "execution_count": 146,
     "metadata": {},
     "output_type": "execute_result"
    }
   ],
   "source": [
    "allCones.head()"
   ]
  },
  {
   "cell_type": "code",
   "execution_count": 150,
   "id": "94f5698f",
   "metadata": {},
   "outputs": [],
   "source": [
    "num = 0\n",
    "dir = 'images'\n",
    "for img in allCones['image']:\n",
    "    num = num + 1\n",
    "    plt.imsave(f'{dir}/{num}.png', img.T, origin='lower')"
   ]
  },
  {
   "cell_type": "code",
   "execution_count": null,
   "id": "30d987aa",
   "metadata": {},
   "outputs": [],
   "source": []
  }
 ],
 "metadata": {
  "kernelspec": {
   "display_name": "Python 3 (ipykernel)",
   "language": "python",
   "name": "python3"
  },
  "language_info": {
   "codemirror_mode": {
    "name": "ipython",
    "version": 3
   },
   "file_extension": ".py",
   "mimetype": "text/x-python",
   "name": "python",
   "nbconvert_exporter": "python",
   "pygments_lexer": "ipython3",
   "version": "3.9.7"
  }
 },
 "nbformat": 4,
 "nbformat_minor": 5
}
